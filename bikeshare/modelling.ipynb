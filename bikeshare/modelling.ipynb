{
 "cells": [
  {
   "cell_type": "code",
   "execution_count": 108,
   "metadata": {
    "collapsed": true
   },
   "outputs": [],
   "source": [
    "# cleanup data and put them in the new csv files\n",
    "\n",
    "import numpy as np\n",
    "import scipy \n",
    "import pandas as pd\n",
    "from sklearn import tree, ensemble, linear_model, svm, cross_validation, grid_search\n",
    "import math\n",
    "import matplotlib.pyplot as plt\n",
    "import matplotlib.mlab as mlab\n",
    "%matplotlib inline\n",
    "\n",
    "## load test data (this one does not need any more preprocessing)\n",
    "test = np.genfromtxt(\"data/clean/test.csv\",delimiter=\",\",skip_header=1)\n",
    "\n",
    "#A function to calculate Root Mean Squared Logarithmic Error (RMSLE)\n",
    "def rmsle(y, y_pred):\n",
    "    assert len(y) == len(y_pred)\n",
    "    terms_to_sum = [(math.log(y_pred[i] + 1) - math.log(y[i] + 1)) ** 2.0 for i,pred in enumerate(y_pred)]\n",
    "    return (sum(terms_to_sum) * (1.0/len(y))) ** 0.5\n",
    "\n",
    "def normalize(x):\n",
    "    return (x - x.mean()) / (x.max() - x.min())\n",
    "\n",
    "# combine results\n",
    "def output_results(predictions):\n",
    "    test_t = pd.read_csv(\"data/original/test.csv\")\n",
    "    dates = test_t[\"datetime\"]\n",
    "    predictions = np.maximum(predictions,0.0)\n",
    "    results = pd.DataFrame(predictions)\n",
    "    dates = pd.DataFrame(dates)\n",
    "    x = pd.concat([dates,results],axis=1)\n",
    "    x.columns = [\"datetime\",\"count\"]\n",
    "    x.to_csv(\"data/result.csv\",delimiter=\",\",index=False)\n",
    "\n",
    "# set up two histograms to see how the distribution of variables \n",
    "# looks for the training and test labels\n",
    "def hist_evaluate(train_lab, svr_pred):\n",
    "    n, bins, patches = plt.hist(train_lab, 50, normed=1, facecolor='green', alpha=0.75)\n",
    "    plt.show()\n",
    "\n",
    "    n, bins, patches = plt.hist(svr_pred, 50, normed=1, facecolor='green', alpha=0.75)\n",
    "    plt.show()"
   ]
  },
  {
   "cell_type": "code",
   "execution_count": 52,
   "metadata": {
    "collapsed": true
   },
   "outputs": [],
   "source": [
    "# import data to numpy\n",
    "def process_train():\n",
    "    train_comp = np.genfromtxt(\"data/clean/train.csv\",delimiter=\",\",skip_header=1)\n",
    "    # split data into train and validation\n",
    "    np.random.shuffle(train_comp)\n",
    "    y = train_comp[:,0]\n",
    "    x = np.delete(train_comp,0,1)\n",
    "    return cross_validation.train_test_split(x,y, test_size=0.4, random_state=1)"
   ]
  },
  {
   "cell_type": "code",
   "execution_count": 53,
   "metadata": {
    "collapsed": false
   },
   "outputs": [],
   "source": [
    "(train,valid,train_lab,valid_lab) = process_train()"
   ]
  },
  {
   "cell_type": "code",
   "execution_count": 54,
   "metadata": {
    "collapsed": false
   },
   "outputs": [
    {
     "data": {
      "text/plain": [
       "1.4354827761565399"
      ]
     },
     "execution_count": 54,
     "metadata": {},
     "output_type": "execute_result"
    }
   ],
   "source": [
    "# first attempt - SVR with all parameters\n",
    "\n",
    "svr = svm.SVR()\n",
    "svr.fit(train,train_lab)\n",
    "svr_pred = svr.predict(valid)\n"
   ]
  },
  {
   "cell_type": "code",
   "execution_count": null,
   "metadata": {},
   "outputs": [],
   "source": [
    "rmsle(valid_lab, svr_pred)\n",
    "# outputs around 1.43, terrible"
   ]
  },
  {
   "cell_type": "code",
   "execution_count": 81,
   "metadata": {},
   "outputs": [],
   "source": [
    "# SVR with a limited columns\n",
    "# it might make sense to try to use smaller set of vars: 1,2,5\n",
    "temp_train = train[:,[1,2,5,6]]\n",
    "temp_valid = valid[:,[1,2,5,6]]\n",
    "parameters = {'kernel':('linear', 'rbf'), 'C':[1, 10]}\n",
    "svr_min = svm.SVR()\n",
    "clf_svr_min = grid_search.GridSearchCV(svr_min,parameters)\n",
    "clf_svr_min.fit(temp_train,train_lab)\n",
    "svr_min_pred = clf_svr_min.predict(temp_valid)"
   ]
  },
  {
   "cell_type": "code",
   "execution_count": 84,
   "metadata": {},
   "outputs": [
    {
     "name": "stdout",
     "output_type": "stream",
     "text": [
      "-1.99889322389\n",
      "0.535132859349\n"
     ]
    },
    {
     "data": {
      "image/png": "[encoded data removed]",
      "text/plain": [
       "<matplotlib.figure.Figure at 0x115b6bfd0>"
      ]
     },
     "metadata": {},
     "output_type": "display_data"
    },
    {
     "data": {
      "image/png": "[encoded data removed]",
      "text/plain": [
       "<matplotlib.figure.Figure at 0x1160713d0>"
      ]
     },
     "metadata": {},
     "output_type": "display_data"
    }
   ],
   "source": [
    "# SVR with a limited columns\n",
    "# result evaluation\n",
    "\n",
    "print svr_min_pred.min()\n",
    "svr_min_pred = np.maximum(svr_min_pred,0.0)\n",
    "print rmsle(valid_lab, svr_min_pred)\n",
    "hist_evaluate(valid_lab, svr_min_pred)\n",
    "\n",
    "# result: 0.53"
   ]
  },
  {
   "cell_type": "code",
   "execution_count": 107,
   "metadata": {},
   "outputs": [],
   "source": [
    "temp_test = test[:,[1,2,5,6]]\n",
    "svr_min_test_predict = clf_svr_min.predict(temp_test)\n",
    "output_results(svr_min_test_predict)"
   ]
  },
  {
   "cell_type": "code",
   "execution_count": 103,
   "metadata": {},
   "outputs": [
    {
     "data": {
      "text/plain": [
       "array([  16.,   40.,   32., ...,  168.,  129.,   88.])"
      ]
     },
     "execution_count": 103,
     "metadata": {},
     "output_type": "execute_result"
    }
   ],
   "source": [
    "test[:,0]"
   ]
  },
  {
   "cell_type": "code",
   "execution_count": 87,
   "metadata": {},
   "outputs": [
    {
     "name": "stdout",
     "output_type": "stream",
     "text": [
      "1.0\n",
      "977.0\n"
     ]
    },
    {
     "data": {
      "text/plain": [
       "0.8230407301538806"
      ]
     },
     "execution_count": 87,
     "metadata": {},
     "output_type": "execute_result"
    }
   ],
   "source": [
    "# random forest classifier\n",
    "\n",
    "clf_forest = ensemble.RandomForestRegressor()\n",
    "clf_forest.fit(train,train_lab)\n",
    "svr_pred_forest = clf_forest.predict(valid)\n",
    "\n",
    "print svr_pred.min()\n",
    "print svr_pred.max()\n",
    "\n",
    "rmsle(valid_lab, svr_pred)"
   ]
  }
 ],
 "metadata": {
  "kernelspec": {
   "display_name": "Python 2",
   "language": "python",
   "name": "python2"
  },
  "language_info": {
   "codemirror_mode": {
    "name": "ipython",
    "version": 2
   },
   "file_extension": ".py",
   "mimetype": "text/x-python",
   "name": "python",
   "nbconvert_exporter": "python",
   "pygments_lexer": "ipython2",
   "version": "2.7.9"
  }
 },
 "nbformat": 4,
 "nbformat_minor": 0
}
